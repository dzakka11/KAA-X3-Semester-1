{
  "cells": [
    {
      "cell_type": "markdown",
      "metadata": {
        "id": "view-in-github",
        "colab_type": "text"
      },
      "source": [
        "<a href=\"https://colab.research.google.com/github/dzakka11/KAA-X3-Semester-1/blob/main/1_Fungsi_print_Dzakkaul_f_XI_3.ipynb\" target=\"_parent\"><img src=\"https://colab.research.google.com/assets/colab-badge.svg\" alt=\"Open In Colab\"/></a>"
      ]
    },
    {
      "cell_type": "markdown",
      "metadata": {
        "id": "F2hWL6sNUvB6"
      },
      "source": [
        "Nama:Muhammad Dzakkaul Fahmi\n",
        "\n",
        "Kelas:XI.3\n",
        "\n",
        "NO.absen:15"
      ]
    },
    {
      "cell_type": "markdown",
      "metadata": {
        "id": "T7s_-qigVD9_"
      },
      "source": [
        "#Menampilkan String"
      ]
    },
    {
      "cell_type": "code",
      "execution_count": null,
      "metadata": {
        "colab": {
          "base_uri": "https://localhost:8080/"
        },
        "id": "D48bUPLzVa-x",
        "outputId": "3eba3f89-9ce6-4e55-a038-1eba1d9d27bd"
      },
      "outputs": [
        {
          "output_type": "stream",
          "name": "stdout",
          "text": [
            "M.Dzakkaul fahmi\n"
          ]
        }
      ],
      "source": [
        "print(\"M.Dzakkaul fahmi\")"
      ]
    },
    {
      "cell_type": "markdown",
      "metadata": {
        "id": "FIC8CypCVrmR"
      },
      "source": [
        "#Menampilkan Nilai variabel"
      ]
    },
    {
      "cell_type": "code",
      "execution_count": null,
      "metadata": {
        "colab": {
          "base_uri": "https://localhost:8080/"
        },
        "id": "_vY_FYEAV2J8",
        "outputId": "f0f9d63d-034f-4fd0-8d77-7e15ced02941"
      },
      "outputs": [
        {
          "output_type": "stream",
          "name": "stdout",
          "text": [
            "Muhammad Dzakkaul Fahmi\n",
            "16\n",
            "171\n"
          ]
        }
      ],
      "source": [
        "Nama=\"Muhammad Dzakkaul Fahmi\"\n",
        "usia=16\n",
        "Tinggi=171\n",
        "\n",
        "\n",
        "print(Nama)\n",
        "print(usia)\n",
        "print(Tinggi)"
      ]
    },
    {
      "cell_type": "markdown",
      "metadata": {
        "id": "HUZwbBtiTOIx"
      },
      "source": [
        "#Menampilkan string dan variabel"
      ]
    },
    {
      "cell_type": "code",
      "execution_count": null,
      "metadata": {
        "colab": {
          "base_uri": "https://localhost:8080/"
        },
        "id": "ztJ2uGY3TWdg",
        "outputId": "014bddc3-d560-43a5-a395-1730d3128e38"
      },
      "outputs": [
        {
          "output_type": "stream",
          "name": "stdout",
          "text": [
            "halo nama saya Muhammad Dzakkaul Fahmi . Tinggi badan saya adalah 171  cm. \n"
          ]
        }
      ],
      "source": [
        "print (\"halo nama saya\", Nama, \". Tinggi badan saya adalah\",Tinggi, \" cm. \")"
      ]
    },
    {
      "cell_type": "code",
      "execution_count": null,
      "metadata": {
        "colab": {
          "base_uri": "https://localhost:8080/"
        },
        "id": "AOIWU8GyU12X",
        "outputId": "4cacb93f-5f84-4dab-b321-05801484d718"
      },
      "outputs": [
        {
          "output_type": "stream",
          "name": "stdout",
          "text": [
            "Usia saya adalah  16  tahun\n"
          ]
        }
      ],
      "source": [
        "print (\"Usia saya adalah \", usia, \" tahun\")"
      ]
    },
    {
      "cell_type": "markdown",
      "metadata": {
        "id": "DMpiuJjbWYKo"
      },
      "source": [
        "#Latihan"
      ]
    },
    {
      "cell_type": "code",
      "execution_count": null,
      "metadata": {
        "colab": {
          "base_uri": "https://localhost:8080/"
        },
        "id": "V0VQjuLtW3T0",
        "outputId": "5ee93214-56c4-458d-b26f-1688664047ac"
      },
      "outputs": [
        {
          "output_type": "stream",
          "name": "stdout",
          "text": [
            "60\n"
          ]
        }
      ],
      "source": [
        "berat_badan=60\n",
        "print(berat_badan)"
      ]
    },
    {
      "cell_type": "code",
      "execution_count": null,
      "metadata": {
        "colab": {
          "base_uri": "https://localhost:8080/"
        },
        "id": "4Uyf2sFBWV0A",
        "outputId": "fcc99cb7-5167-492c-fa7b-d44838a4f617"
      },
      "outputs": [
        {
          "name": "stdout",
          "output_type": "stream",
          "text": [
            "Berat badan saya adalah 60 kg.\n"
          ]
        }
      ],
      "source": [
        "print (\"Berat badan saya adalah\",berat_badan, \"kg.\")"
      ]
    },
    {
      "cell_type": "code",
      "execution_count": null,
      "metadata": {
        "colab": {
          "background_save": true
        },
        "id": "ZkBAZFhFauVc",
        "outputId": "d1c05830-b2e0-44df-b6ac-320e50e6a9ed"
      },
      "outputs": [
        {
          "name": "stdout",
          "output_type": "stream",
          "text": [
            "halo nama saya Muhammad Dzakkaul Fahmi. Tinggi badan saya adalah 171 cm. \n"
          ]
        }
      ],
      "source": [
        "print(f\"Halo nama saya {Nama}"
      ]
    },
    {
      "cell_type": "markdown",
      "source": [
        "#"
      ],
      "metadata": {
        "id": "R8PoSlrwWugy"
      }
    },
    {
      "cell_type": "markdown",
      "source": [],
      "metadata": {
        "id": "SFJfX_FdZl0K"
      }
    },
    {
      "cell_type": "code",
      "source": [
        "nama_siswa_1=\"Yafi\"\n",
        "nama_siswa_2=\"Wahyu\""
      ],
      "metadata": {
        "id": "qWzeLAN1Zpye"
      },
      "execution_count": null,
      "outputs": []
    },
    {
      "cell_type": "code",
      "source": [
        "print(nama_siswa_1,end=\"&\")\n",
        "print(nama_siswa_2)"
      ],
      "metadata": {
        "colab": {
          "base_uri": "https://localhost:8080/"
        },
        "id": "T_-SIK57Z2B5",
        "outputId": "8688086f-e0bf-4556-bea8-03b4f77438b3"
      },
      "execution_count": null,
      "outputs": [
        {
          "output_type": "stream",
          "name": "stdout",
          "text": [
            "Yafi&Wahyu\n"
          ]
        }
      ]
    },
    {
      "cell_type": "code",
      "source": [
        "print(nama_siswa_1,nama_siswa_2, sep=\"/\")"
      ],
      "metadata": {
        "colab": {
          "base_uri": "https://localhost:8080/"
        },
        "id": "UR53x0AZaMPE",
        "outputId": "50b8db8d-d459-4ed6-c8f9-e9697f7c843e"
      },
      "execution_count": null,
      "outputs": [
        {
          "output_type": "stream",
          "name": "stdout",
          "text": [
            "Yafi/Wahyu\n"
          ]
        }
      ]
    },
    {
      "cell_type": "code",
      "source": [
        "nama_siswa_3=\"Dzakka\"\n",
        "nama_siswa_4=\"Haikal\"\n",
        "nama_siswa_5=\"Hilma\""
      ],
      "metadata": {
        "id": "iNxdoqDGagEo"
      },
      "execution_count": null,
      "outputs": []
    },
    {
      "cell_type": "code",
      "source": [
        "print(nama_siswa_5,end=\"*\")\n",
        "print(nama_siswa_4,end=\"*\")\n",
        "print(nama_siswa_3,end=\"*\")\n",
        "print(nama_siswa_5,end=\"*\")"
      ],
      "metadata": {
        "colab": {
          "base_uri": "https://localhost:8080/"
        },
        "id": "01ITih6Sa1dA",
        "outputId": "4d7bebf2-a6b5-43b1-fa4a-d42087b5941f"
      },
      "execution_count": null,
      "outputs": [
        {
          "output_type": "stream",
          "name": "stdout",
          "text": [
            "Hilma*Haikal*Dzakka*Hilma*"
          ]
        }
      ]
    },
    {
      "cell_type": "code",
      "source": [
        "print(nama_siswa_4,nama_siswa_3,nama_siswa_5,nama_siswa_3,sep=\"~\")"
      ],
      "metadata": {
        "colab": {
          "base_uri": "https://localhost:8080/"
        },
        "id": "bVlTCx7KbzWf",
        "outputId": "bfda8222-e895-4d59-9e5b-0463838b5749"
      },
      "execution_count": null,
      "outputs": [
        {
          "output_type": "stream",
          "name": "stdout",
          "text": [
            "Haikal~Dzakka~Hilma~Dzakka\n"
          ]
        }
      ]
    }
  ],
  "metadata": {
    "colab": {
      "provenance": [],
      "authorship_tag": "ABX9TyMmw92wwOg/ZT90YPArwbdB",
      "include_colab_link": true
    },
    "kernelspec": {
      "display_name": "Python 3",
      "name": "python3"
    },
    "language_info": {
      "name": "python"
    }
  },
  "nbformat": 4,
  "nbformat_minor": 0
}